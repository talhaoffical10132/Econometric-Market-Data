{
 "cells": [
  {
   "cell_type": "code",
   "execution_count": 9,
   "id": "6e1c358b",
   "metadata": {},
   "outputs": [
    {
     "name": "stdout",
     "output_type": "stream",
     "text": [
      "Collecting openpyxl\n",
      "  Downloading openpyxl-3.1.5-py2.py3-none-any.whl.metadata (2.5 kB)\n",
      "Collecting et-xmlfile (from openpyxl)\n",
      "  Downloading et_xmlfile-2.0.0-py3-none-any.whl.metadata (2.7 kB)\n",
      "Downloading openpyxl-3.1.5-py2.py3-none-any.whl (250 kB)\n",
      "Downloading et_xmlfile-2.0.0-py3-none-any.whl (18 kB)\n",
      "Installing collected packages: et-xmlfile, openpyxl\n",
      "Successfully installed et-xmlfile-2.0.0 openpyxl-3.1.5\n",
      "Note: you may need to restart the kernel to use updated packages.\n"
     ]
    },
    {
     "name": "stderr",
     "output_type": "stream",
     "text": [
      "\n",
      "[notice] A new release of pip is available: 24.3.1 -> 25.2\n",
      "[notice] To update, run: python.exe -m pip install --upgrade pip\n"
     ]
    }
   ],
   "source": [
    "pip install openpyxl\n"
   ]
  },
  {
   "cell_type": "code",
   "execution_count": 30,
   "id": "cdb33178",
   "metadata": {},
   "outputs": [
    {
     "name": "stdout",
     "output_type": "stream",
     "text": [
      "   Year      Y    PC     PB     YD  TEMP    PRM\n",
      "0  1974  39.70  42.3  143.8  50.10   -16  107.8\n",
      "1  1975  38.69  49.4  152.2  54.98    -4  134.6\n",
      "2  1976  42.02  45.5  145.7  59.72   -24  134.0\n",
      "3  1977  42.71  45.3  145.9  65.17    16  125.4\n",
      "4  1978  44.75  49.3  178.8  72.24     5  143.6\n",
      "<class 'pandas.core.frame.DataFrame'>\n",
      "RangeIndex: 29 entries, 0 to 28\n",
      "Data columns (total 7 columns):\n",
      " #   Column  Non-Null Count  Dtype  \n",
      "---  ------  --------------  -----  \n",
      " 0   Year    29 non-null     int64  \n",
      " 1   Y       29 non-null     float64\n",
      " 2   PC      29 non-null     float64\n",
      " 3   PB      29 non-null     float64\n",
      " 4   YD      29 non-null     float64\n",
      " 5   TEMP    29 non-null     int64  \n",
      " 6   PRM     29 non-null     float64\n",
      "dtypes: float64(5), int64(2)\n",
      "memory usage: 1.7 KB\n",
      "None\n",
      "              Year          Y         PC          PB          YD       TEMP  \\\n",
      "count    29.000000  29.000000  29.000000   29.000000   29.000000  29.000000   \n",
      "mean   1988.000000  65.124828  47.537931  247.917241  153.130345  34.241379   \n",
      "std       8.514693  17.480806  11.723615   53.442072   67.343331  29.646314   \n",
      "min    1974.000000  38.690000  26.200000  143.800000   50.100000 -24.000000   \n",
      "25%    1981.000000  50.370000  42.300000  228.600000   97.650000  13.000000   \n",
      "50%    1988.000000  63.800000  49.400000  250.300000  152.970000  35.000000   \n",
      "75%    1995.000000  79.650000  56.200000  284.300000  202.870000  60.000000   \n",
      "max    2002.000000  94.370000  64.200000  337.700000  271.450000  89.000000   \n",
      "\n",
      "              PRM  \n",
      "count   29.000000  \n",
      "mean   196.124138  \n",
      "std     46.018751  \n",
      "min    107.800000  \n",
      "25%    161.200000  \n",
      "50%    194.000000  \n",
      "75%    233.700000  \n",
      "max    269.400000  \n"
     ]
    }
   ],
   "source": [
    "\n",
    "\n",
    "print(data.head())\n",
    "print(data.info())\n",
    "print(data.describe())\n"
   ]
  },
  {
   "cell_type": "code",
   "execution_count": 15,
   "id": "3f101cce",
   "metadata": {},
   "outputs": [],
   "source": [
    "import os\n",
    "import itertools\n",
    "import pandas as pd\n",
    "import statsmodels.api as sm\n",
    "from statsmodels.stats.outliers_influence import variance_inflation_factor\n",
    "from statsmodels.stats.diagnostic import het_breuschpagan, linear_reset\n",
    "from statsmodels.stats.stattools import durbin_watson\n",
    "import numpy as np\n"
   ]
  },
  {
   "cell_type": "code",
   "execution_count": 16,
   "id": "aa7a6ae3",
   "metadata": {},
   "outputs": [],
   "source": [
    "filename = \"chicken_demand_data.xlsx\"\n",
    "if not os.path.exists(filename):\n",
    "    raise FileNotFoundError(f\"File not found at: {filename}. Put the file in this folder or set 'filename' to the correct path.\")\n"
   ]
  },
  {
   "cell_type": "code",
   "execution_count": 17,
   "id": "334d49c6",
   "metadata": {},
   "outputs": [
    {
     "name": "stdout",
     "output_type": "stream",
     "text": [
      "Loaded data. Columns: ['Year', 'Y', 'PC', 'PB', 'YD', 'TEMP', 'PRM']\n",
      "   Year      Y    PC     PB     YD  TEMP    PRM\n",
      "0  1974  39.70  42.3  143.8  50.10   -16  107.8\n",
      "1  1975  38.69  49.4  152.2  54.98    -4  134.6\n",
      "2  1976  42.02  45.5  145.7  59.72   -24  134.0\n",
      "3  1977  42.71  45.3  145.9  65.17    16  125.4\n",
      "4  1978  44.75  49.3  178.8  72.24     5  143.6\n"
     ]
    }
   ],
   "source": [
    "df = pd.read_excel(filename)\n",
    "print(\"Loaded data. Columns:\", df.columns.tolist())\n",
    "print(df.head())\n"
   ]
  },
  {
   "cell_type": "code",
   "execution_count": 18,
   "id": "c1d018a3",
   "metadata": {},
   "outputs": [],
   "source": [
    "response = \"Y\"\n",
    "predictors = [\"PC\", \"PB\", \"YD\", \"TEMP\", \"PRM\"]\n",
    "\n",
    "missing = set([response] + predictors) - set(df.columns)\n",
    "if missing:\n",
    "    raise ValueError(f\"Missing expected columns in dataset: {missing}\")\n"
   ]
  },
  {
   "cell_type": "code",
   "execution_count": 19,
   "id": "f3d49d1b",
   "metadata": {},
   "outputs": [],
   "source": [
    "y = df[response]\n",
    "X_full = sm.add_constant(df[predictors])\n"
   ]
  },
  {
   "cell_type": "code",
   "execution_count": 20,
   "id": "4024366f",
   "metadata": {},
   "outputs": [
    {
     "name": "stdout",
     "output_type": "stream",
     "text": [
      "\n",
      "=== Full model summary ===\n",
      "                            OLS Regression Results                            \n",
      "==============================================================================\n",
      "Dep. Variable:                      Y   R-squared:                       0.992\n",
      "Model:                            OLS   Adj. R-squared:                  0.990\n",
      "Method:                 Least Squares   F-statistic:                     576.4\n",
      "Date:                Wed, 15 Oct 2025   Prob (F-statistic):           2.31e-23\n",
      "Time:                        22:29:02   Log-Likelihood:                -53.451\n",
      "No. Observations:                  29   AIC:                             118.9\n",
      "Df Residuals:                      23   BIC:                             127.1\n",
      "Df Model:                           5                                         \n",
      "Covariance Type:            nonrobust                                         \n",
      "==============================================================================\n",
      "                 coef    std err          t      P>|t|      [0.025      0.975]\n",
      "------------------------------------------------------------------------------\n",
      "const         29.0647      3.483      8.344      0.000      21.859      36.271\n",
      "PC            -0.1098      0.033     -3.368      0.003      -0.177      -0.042\n",
      "PB             0.0389      0.018      2.136      0.044       0.001       0.077\n",
      "YD             0.2475      0.022     11.233      0.000       0.202       0.293\n",
      "TEMP          -0.0173      0.021     -0.827      0.417      -0.061       0.026\n",
      "PRM           -0.0290      0.030     -0.956      0.349      -0.092       0.034\n",
      "==============================================================================\n",
      "Omnibus:                        0.530   Durbin-Watson:                   0.941\n",
      "Prob(Omnibus):                  0.767   Jarque-Bera (JB):                0.034\n",
      "Skew:                           0.025   Prob(JB):                        0.983\n",
      "Kurtosis:                       3.160   Cond. No.                     4.02e+03\n",
      "==============================================================================\n",
      "\n",
      "Notes:\n",
      "[1] Standard Errors assume that the covariance matrix of the errors is correctly specified.\n",
      "[2] The condition number is large, 4.02e+03. This might indicate that there are\n",
      "strong multicollinearity or other numerical problems.\n"
     ]
    }
   ],
   "source": [
    "full_model = sm.OLS(y, X_full).fit()\n",
    "print(\"\\n=== Full model summary ===\")\n",
    "print(full_model.summary())\n"
   ]
  },
  {
   "cell_type": "code",
   "execution_count": 21,
   "id": "1e776432",
   "metadata": {},
   "outputs": [
    {
     "name": "stdout",
     "output_type": "stream",
     "text": [
      "\n",
      "=== Coefficients (t-tests & p-values) ===\n",
      "           Coef.  Std.Err.          t         P>|t|     [0.025     0.975]\n",
      "const  29.064718  3.483486   8.343572  2.069165e-08  21.858577  36.270858\n",
      "PC     -0.109785  0.032593  -3.368401  2.653967e-03  -0.177209  -0.042362\n",
      "PB      0.038942  0.018232   2.135962  4.355128e-02   0.001227   0.076658\n",
      "YD      0.247492  0.022033  11.232905  8.163225e-11   0.201914   0.293070\n",
      "TEMP   -0.017312  0.020937  -0.826857  4.168144e-01  -0.060623   0.026000\n",
      "PRM    -0.028967  0.030288  -0.956388  3.488214e-01  -0.091622   0.033688\n"
     ]
    }
   ],
   "source": [
    "print(\"\\n=== Coefficients (t-tests & p-values) ===\")\n",
    "print(full_model.summary2().tables[1])\n"
   ]
  },
  {
   "cell_type": "code",
   "execution_count": 22,
   "id": "9d52ec27",
   "metadata": {},
   "outputs": [
    {
     "name": "stdout",
     "output_type": "stream",
     "text": [
      "\n",
      "Overall F-statistic p-value: 2.3088199708481914e-23\n"
     ]
    }
   ],
   "source": [
    "print(\"\\nOverall F-statistic p-value:\", full_model.f_pvalue)\n"
   ]
  },
  {
   "cell_type": "code",
   "execution_count": 23,
   "id": "c8411e6e",
   "metadata": {},
   "outputs": [
    {
     "name": "stdout",
     "output_type": "stream",
     "text": [
      "\n",
      "=== VIFs (includes constant) ===\n",
      "  variable         VIF\n",
      "0    const  119.477929\n",
      "1       PC    1.387982\n",
      "2       PB    9.024920\n",
      "3       YD   20.928891\n",
      "4     TEMP    3.662607\n",
      "5      PRM   18.468309\n"
     ]
    }
   ],
   "source": [
    "def compute_vif(X_df):\n",
    "    vif_df = pd.DataFrame({\n",
    "        \"variable\": X_df.columns,\n",
    "        \"VIF\": [variance_inflation_factor(X_df.values, i) for i in range(X_df.shape[1])]\n",
    "    })\n",
    "    return vif_df\n",
    "\n",
    "vif = compute_vif(X_full)\n",
    "print(\"\\n=== VIFs (includes constant) ===\")\n",
    "print(vif)\n"
   ]
  },
  {
   "cell_type": "code",
   "execution_count": 24,
   "id": "e6ee6138",
   "metadata": {},
   "outputs": [
    {
     "name": "stdout",
     "output_type": "stream",
     "text": [
      "\n",
      "Breusch-Pagan LM p-value: 0.07106021809312595   f-test p-value: 0.06183578568011185\n"
     ]
    }
   ],
   "source": [
    "bp = het_breuschpagan(full_model.resid, full_model.model.exog)\n",
    "# bp returns: lm_stat, lm_pvalue, f_stat, f_pvalue\n",
    "print(\"\\nBreusch-Pagan LM p-value:\", bp[1], \"  f-test p-value:\", bp[3])\n"
   ]
  },
  {
   "cell_type": "code",
   "execution_count": 25,
   "id": "8b10e0bf",
   "metadata": {},
   "outputs": [
    {
     "name": "stdout",
     "output_type": "stream",
     "text": [
      "                            OLS Regression Results                            \n",
      "==============================================================================\n",
      "Dep. Variable:                      Y   R-squared:                       0.992\n",
      "Model:                            OLS   Adj. R-squared:                  0.990\n",
      "Method:                 Least Squares   F-statistic:                     649.6\n",
      "Date:                Wed, 15 Oct 2025   Prob (F-statistic):           5.91e-24\n",
      "Time:                        22:29:43   Log-Likelihood:                -53.451\n",
      "No. Observations:                  29   AIC:                             118.9\n",
      "Df Residuals:                      23   BIC:                             127.1\n",
      "Df Model:                           5                                         \n",
      "Covariance Type:                  HC3                                         \n",
      "==============================================================================\n",
      "                 coef    std err          t      P>|t|      [0.025      0.975]\n",
      "------------------------------------------------------------------------------\n",
      "const         29.0647      3.588      8.100      0.000      21.641      36.488\n",
      "PC            -0.1098      0.030     -3.624      0.001      -0.172      -0.047\n",
      "PB             0.0389      0.015      2.576      0.017       0.008       0.070\n",
      "YD             0.2475      0.025     10.016      0.000       0.196       0.299\n",
      "TEMP          -0.0173      0.026     -0.664      0.513      -0.071       0.037\n",
      "PRM           -0.0290      0.027     -1.073      0.294      -0.085       0.027\n",
      "==============================================================================\n",
      "Omnibus:                        0.530   Durbin-Watson:                   0.941\n",
      "Prob(Omnibus):                  0.767   Jarque-Bera (JB):                0.034\n",
      "Skew:                           0.025   Prob(JB):                        0.983\n",
      "Kurtosis:                       3.160   Cond. No.                     4.02e+03\n",
      "==============================================================================\n",
      "\n",
      "Notes:\n",
      "[1] Standard Errors are heteroscedasticity robust (HC3)\n",
      "[2] The condition number is large, 4.02e+03. This might indicate that there are\n",
      "strong multicollinearity or other numerical problems.\n"
     ]
    }
   ],
   "source": [
    "robust_res = full_model.get_robustcov_results(cov_type='HC3')\n",
    "print(robust_res.summary())\n"
   ]
  },
  {
   "cell_type": "code",
   "execution_count": 26,
   "id": "0e65b0d4",
   "metadata": {},
   "outputs": [
    {
     "name": "stdout",
     "output_type": "stream",
     "text": [
      "Durbin-Watson: 0.9409301500503313  (2 ~ no autocorr; <2 positive autocorr; >2 negative autocorr)\n"
     ]
    }
   ],
   "source": [
    "dw = durbin_watson(full_model.resid)\n",
    "print(\"Durbin-Watson:\", dw, \" (2 ~ no autocorr; <2 positive autocorr; >2 negative autocorr)\")\n"
   ]
  },
  {
   "cell_type": "code",
   "execution_count": 27,
   "id": "b2933a1a",
   "metadata": {},
   "outputs": [
    {
     "name": "stdout",
     "output_type": "stream",
     "text": [
      "Ramsey RESET p-value: 0.19122377146643738\n"
     ]
    }
   ],
   "source": [
    "try:\n",
    "    reset = linear_reset(full_model, power=2, use_f=True)\n",
    "    reset_p = reset.pvalue if hasattr(reset, \"pvalue\") else (reset[1] if len(reset)>1 else None)\n",
    "except Exception as e:\n",
    "    reset_p = np.nan\n",
    "print(\"Ramsey RESET p-value:\", reset_p)\n"
   ]
  },
  {
   "cell_type": "code",
   "execution_count": 28,
   "id": "1c0b0361",
   "metadata": {},
   "outputs": [
    {
     "name": "stdout",
     "output_type": "stream",
     "text": [
      "\n",
      "=== Top 10 models by AIC ===\n",
      "          predictors  k  nobs    adj_R2         AIC         BIC      F_pvalue  \\\n",
      "0           PC+PB+YD  3    29  0.990455  117.038849  122.508033  5.546770e-26   \n",
      "1       PC+PB+YD+PRM  4    29  0.990488  117.752380  124.588859  1.112619e-24   \n",
      "2      PC+PB+YD+TEMP  4    29  0.990396  118.033847  124.870326  1.249960e-24   \n",
      "3              PC+YD  2    29  0.989600  118.664392  122.766279  6.357399e-27   \n",
      "4  PC+PB+YD+TEMP+PRM  5    29  0.990361  118.902898  127.106673  2.308820e-23   \n",
      "5         PC+YD+TEMP  3    29  0.989316  120.306436  125.775619  2.267320e-25   \n",
      "6          PC+YD+PRM  3    29  0.989266  120.442715  125.911898  2.404443e-25   \n",
      "7     PC+YD+TEMP+PRM  4    29  0.988931  122.150619  128.987098  6.858128e-24   \n",
      "8                 YD  1    29  0.987047  124.124731  126.859323  3.081484e-27   \n",
      "9             YD+PRM  2    29  0.986767  125.649234  129.751122  1.455843e-25   \n",
      "\n",
      "    RESET_p      BP_p        DW  \n",
      "0  0.213711  0.117312  1.000757  \n",
      "1  0.153877  0.108176  0.983955  \n",
      "2  0.259295  0.033450  0.973477  \n",
      "3  0.056472  0.103693  0.821378  \n",
      "4  0.191224  0.071060  0.940930  \n",
      "5  0.065451  0.056308  0.778228  \n",
      "6  0.038208  0.154485  0.799623  \n",
      "7  0.047032  0.119539  0.758924  \n",
      "8  0.538927  0.156426  0.693487  \n",
      "9  0.398708  0.125291  0.686072  \n",
      "\n",
      "=== Top 10 models by adj_R2 ===\n",
      "          predictors  k  nobs    adj_R2         AIC         BIC      F_pvalue  \\\n",
      "1       PC+PB+YD+PRM  4    29  0.990488  117.752380  124.588859  1.112619e-24   \n",
      "0           PC+PB+YD  3    29  0.990455  117.038849  122.508033  5.546770e-26   \n",
      "2      PC+PB+YD+TEMP  4    29  0.990396  118.033847  124.870326  1.249960e-24   \n",
      "4  PC+PB+YD+TEMP+PRM  5    29  0.990361  118.902898  127.106673  2.308820e-23   \n",
      "3              PC+YD  2    29  0.989600  118.664392  122.766279  6.357399e-27   \n",
      "5         PC+YD+TEMP  3    29  0.989316  120.306436  125.775619  2.267320e-25   \n",
      "6          PC+YD+PRM  3    29  0.989266  120.442715  125.911898  2.404443e-25   \n",
      "7     PC+YD+TEMP+PRM  4    29  0.988931  122.150619  128.987098  6.858128e-24   \n",
      "8                 YD  1    29  0.987047  124.124731  126.859323  3.081484e-27   \n",
      "9             YD+PRM  2    29  0.986767  125.649234  129.751122  1.455843e-25   \n",
      "\n",
      "    RESET_p      BP_p        DW  \n",
      "1  0.153877  0.108176  0.983955  \n",
      "0  0.213711  0.117312  1.000757  \n",
      "2  0.259295  0.033450  0.973477  \n",
      "4  0.191224  0.071060  0.940930  \n",
      "3  0.056472  0.103693  0.821378  \n",
      "5  0.065451  0.056308  0.778228  \n",
      "6  0.038208  0.154485  0.799623  \n",
      "7  0.047032  0.119539  0.758924  \n",
      "8  0.538927  0.156426  0.693487  \n",
      "9  0.398708  0.125291  0.686072  \n",
      "\n",
      "Saved model comparison to: chicken_model_comparison.csv\n"
     ]
    }
   ],
   "source": [
    "results = []\n",
    "all_predictor_sets = []\n",
    "for k in range(1, len(predictors)+1):\n",
    "    for combo in itertools.combinations(predictors, k):\n",
    "        all_predictor_sets.append(combo)\n",
    "\n",
    "for combo in all_predictor_sets:\n",
    "    Xc = sm.add_constant(df[list(combo)])\n",
    "    model = sm.OLS(y, Xc).fit()\n",
    "    # RESET\n",
    "    try:\n",
    "        r = linear_reset(model, power=2, use_f=True)\n",
    "        reset_p = r.pvalue if hasattr(r, \"pvalue\") else (r[1] if len(r)>1 else None)\n",
    "    except Exception:\n",
    "        reset_p = np.nan\n",
    "    # BP p-value\n",
    "    try:\n",
    "        bp_c = het_breuschpagan(model.resid, model.model.exog)\n",
    "        bp_p = bp_c[1]\n",
    "    except Exception:\n",
    "        bp_p = np.nan\n",
    "    results.append({\n",
    "        \"predictors\": \"+\".join(combo),\n",
    "        \"k\": len(combo),\n",
    "        \"nobs\": int(model.nobs),\n",
    "        \"adj_R2\": model.rsquared_adj,\n",
    "        \"AIC\": model.aic,\n",
    "        \"BIC\": model.bic,\n",
    "        \"F_pvalue\": model.f_pvalue,\n",
    "        \"RESET_p\": reset_p,\n",
    "        \"BP_p\": bp_p,\n",
    "        \"DW\": durbin_watson(model.resid)\n",
    "    })\n",
    "\n",
    "comp_df = pd.DataFrame(results).sort_values(\"AIC\").reset_index(drop=True)\n",
    "print(\"\\n=== Top 10 models by AIC ===\")\n",
    "print(comp_df.head(10))\n",
    "print(\"\\n=== Top 10 models by adj_R2 ===\")\n",
    "print(comp_df.sort_values(\"adj_R2\", ascending=False).head(10))\n",
    "outpath = \"chicken_model_comparison.csv\"\n",
    "comp_df.to_csv(outpath, index=False)\n",
    "print(\"\\nSaved model comparison to:\", outpath)\n"
   ]
  },
  {
   "cell_type": "code",
   "execution_count": null,
   "id": "a16ba0eb",
   "metadata": {},
   "outputs": [],
   "source": []
  },
  {
   "cell_type": "code",
   "execution_count": null,
   "id": "aae6cb86",
   "metadata": {},
   "outputs": [],
   "source": []
  }
 ],
 "metadata": {
  "kernelspec": {
   "display_name": "Python 3",
   "language": "python",
   "name": "python3"
  },
  "language_info": {
   "codemirror_mode": {
    "name": "ipython",
    "version": 3
   },
   "file_extension": ".py",
   "mimetype": "text/x-python",
   "name": "python",
   "nbconvert_exporter": "python",
   "pygments_lexer": "ipython3",
   "version": "3.13.0"
  }
 },
 "nbformat": 4,
 "nbformat_minor": 5
}
